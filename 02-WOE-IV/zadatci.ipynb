{
 "cells": [
  {
   "cell_type": "markdown",
   "metadata": {},
   "source": [
    "1. Kontrola kvalitete podataka \n",
    "    - ✔  <strike>Prepoznavanje nedostajućih vrijednosti</strike>\n",
    "    - ✔   <strike>Rekodiranje nedostajućih vrijednosti  npr  .null. -> „missing“</strike>\n",
    "    - ✔   <strike>Prepoznavanje uniformnih ili nelogičnih distribucija</strike>\n",
    "    - ✔  <strike>Provjeriti / redizajnirati /odrediti ciljnu varijablu i njenu kvalitetu</strike>\n",
    "    -   Objasniti / komentirati nalaze\n",
    "2. Statističke analize uzorka podataka\n",
    "    - ✔   <strike>Za svaku kategoričku varijablu prikazati distribucija frekvencije u grafu </strike>\n",
    "    - ✔   <strike>Za svaku kontinuiranu varijablu izračunati srednju vrijednost, z vrijednosti, zaobljenost distribucije, nagnutost distribucije</strike>\n",
    "    - ✔   <strike>Izračunati korelacije svake varijable sa ciljnom varijablom </strike>\n",
    "    - ✔   <strike>Izračunati korelacije svake varijable izražene kroz Z vrijednost i  kategorizirane u razrede <-3 , (-3 do 3),>3 s ciljnom varijablom </strike>\n",
    "    -   Objasniti što ste spoznali vezano uz promatrani skup podataka  temeljem analiza iz točke 2\n",
    "    -   Objasniti / komentirati nalaze\n",
    "    -   Sve mora biti vidljivo u Jupyter Notebooku, kod i rezultati,  kao i komentari\n",
    "3. IV, WoE izračuni\n",
    "    - ✔   <strike>Izračunati IV, WoE za svaku varijablu i prikazati u Jupyter Notebooku</strike>\n",
    "    - ✔   <strike>Izdvojiti varijable sa najjačim IV-om i prikazati grafički WoE graf za sve najjače varijable</strike>\n",
    "    -   Grupirati razrede po kriteriju WoE za najjače varijable\n",
    "    -   Objasniti što ste spoznali temeljem ove analize (profili, uzroci, uzročno posljedične veze)\n",
    "    -   Predložite kako biste riješili problem vezano uz vaš skup podataka temeljem  IV, WoE analize (što bi trebalo mijenjati, raditi drugačije, gdje je problem uzrok problema, koji su rizični profili … )\n",
    "    -   Sve mora biti vidljivo u Jupyter Notebooku, kod i rezultati, kao i komentari \n",
    "    -   Objasniti / komentirati nalaze\n"
   ]
  }
 ],
 "metadata": {
  "language_info": {
   "name": "python"
  }
 },
 "nbformat": 4,
 "nbformat_minor": 2
}
